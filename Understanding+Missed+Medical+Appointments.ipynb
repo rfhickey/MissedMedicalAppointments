{
 "cells": [
  {
   "cell_type": "markdown",
   "metadata": {},
   "source": [
    "# Project: Investigate a Dataset - Why Are People Missing Their Medical Appointments in Espirito Santo State - Vitoria - Brazil?\n",
    "\n",
    "## Table of Contents\n",
    "<ul>\n",
    "<li><a href=\"#intro\">Introduction</a></li>\n",
    "<li><a href=\"#wrangling\">Data Wrangling</a></li>\n",
    "<li><a href=\"#eda\">Exploratory Data Analysis</a></li>\n",
    "<li><a href=\"#conclusions\">Conclusions</a></li>\n",
    "</ul>"
   ]
  },
  {
   "cell_type": "markdown",
   "metadata": {},
   "source": [
    "<a id='intro'></a>\n",
    "## Introduction\n",
    "\n",
    "Medical systems around the world must cope with increasing populations and medical costs. Thus, insights into how medical administrators can improve the efficiency of medical care while bringing down costs are important for every medical facility on Earth. \n",
    "\n",
    "The efficiency of medical care can be improved by ensuring that the valuable time of in-demand medical personnel is not wasted by patients missing appointments. Additionally, if patients miss appointments, preventative or early-stage medical interventions may turn into costly, chronic ailments. These missed appointments could be taken by others who need them but who are prevented from seeing medical staff in a timely manner. \n",
    "\n",
    "Here we will investigate data that describes the characteristics of patients and their medical appointments for over 100,000 medical appointments in Santo State - Vitoria - Brazil (https://www.google.com/url?q=https://d17h27t6h515a5.cloudfront.net/topher/2017/October/59dd2e9a_noshowappointments-kagglev2-may-2016/noshowappointments-kagglev2-may-2016.csv&sa=D&ust=1511158497445000&usg=AFQjCNH7fdguCZGShcl-ghreDoiNSa7kjg). I refered to the forums here to help get my creative juices flowing: https://www.kaggle.com/joniarroba/noshowappointments. \n",
    "\n",
    "My dependent variable for this investigation is whether the patient arrives for their scheduled appointment (indicated by the \"No-show\" column in the CSV file and dataframe). My independent variables are \"Appointment ID,\" \"Neighbourhood,\" and \"SMS Received.\" \n",
    "\n",
    "I am using these independent variables as I wish to probe my suspicions that the following are true:\n",
    "\n",
    "- Patients who have more than one medical appointment miss appointments with a higher frequency than patients with only one appointment. I suspect this might be because those who have multiple appointments have an ongoing medical problem and think about their appointments more often. \n",
    "- Patients from certain neighborhoods tend to miss appointments more often than patients from other neighborhoods. Distance from the medical facility, the availability of efficient transportation options, and the average household income of families in each neighborhood (which may have a bearing on the transportation options patients can exploit) may converge to make this an interesting area to investigate. To do this, I'd like to investigate the proportion of appointments made by patients from each neighbourhood that are missed. \n",
    "- Patients who receive SMS messages are less likely to miss their appointments than people who do not receive SMS messages. I'd like to compare the proportion of people who receive text messages and miss their appointments to the proportion of people who do not receive text messages and miss their appointments. "
   ]
  },
  {
   "cell_type": "code",
   "execution_count": 23,
   "metadata": {
    "collapsed": true
   },
   "outputs": [],
   "source": [
    "import matplotlib.pyplot as plt\n",
    "import numpy as np\n",
    "import pandas as pd \n",
    "import seaborn as sns\n",
    "\n",
    "\n",
    "\n",
    "%matplotlib inline"
   ]
  },
  {
   "cell_type": "markdown",
   "metadata": {},
   "source": [
    "<a id='wrangling'></a>\n",
    "## Data Wrangling\n",
    "\n",
    "\n",
    "### General Properties"
   ]
  },
  {
   "cell_type": "code",
   "execution_count": 24,
   "metadata": {},
   "outputs": [
    {
     "data": {
      "text/html": [
       "<div>\n",
       "<style>\n",
       "    .dataframe thead tr:only-child th {\n",
       "        text-align: right;\n",
       "    }\n",
       "\n",
       "    .dataframe thead th {\n",
       "        text-align: left;\n",
       "    }\n",
       "\n",
       "    .dataframe tbody tr th {\n",
       "        vertical-align: top;\n",
       "    }\n",
       "</style>\n",
       "<table border=\"1\" class=\"dataframe\">\n",
       "  <thead>\n",
       "    <tr style=\"text-align: right;\">\n",
       "      <th></th>\n",
       "      <th>PatientId</th>\n",
       "      <th>AppointmentID</th>\n",
       "      <th>Gender</th>\n",
       "      <th>ScheduledDay</th>\n",
       "      <th>AppointmentDay</th>\n",
       "      <th>Age</th>\n",
       "      <th>Neighbourhood</th>\n",
       "      <th>Scholarship</th>\n",
       "      <th>Hipertension</th>\n",
       "      <th>Diabetes</th>\n",
       "      <th>Alcoholism</th>\n",
       "      <th>Handcap</th>\n",
       "      <th>SMS_received</th>\n",
       "      <th>No-show</th>\n",
       "    </tr>\n",
       "  </thead>\n",
       "  <tbody>\n",
       "    <tr>\n",
       "      <th>0</th>\n",
       "      <td>2.987250e+13</td>\n",
       "      <td>5642903</td>\n",
       "      <td>F</td>\n",
       "      <td>2016-04-29T18:38:08Z</td>\n",
       "      <td>2016-04-29T00:00:00Z</td>\n",
       "      <td>62</td>\n",
       "      <td>JARDIM DA PENHA</td>\n",
       "      <td>0</td>\n",
       "      <td>1</td>\n",
       "      <td>0</td>\n",
       "      <td>0</td>\n",
       "      <td>0</td>\n",
       "      <td>0</td>\n",
       "      <td>No</td>\n",
       "    </tr>\n",
       "    <tr>\n",
       "      <th>1</th>\n",
       "      <td>5.589978e+14</td>\n",
       "      <td>5642503</td>\n",
       "      <td>M</td>\n",
       "      <td>2016-04-29T16:08:27Z</td>\n",
       "      <td>2016-04-29T00:00:00Z</td>\n",
       "      <td>56</td>\n",
       "      <td>JARDIM DA PENHA</td>\n",
       "      <td>0</td>\n",
       "      <td>0</td>\n",
       "      <td>0</td>\n",
       "      <td>0</td>\n",
       "      <td>0</td>\n",
       "      <td>0</td>\n",
       "      <td>No</td>\n",
       "    </tr>\n",
       "    <tr>\n",
       "      <th>2</th>\n",
       "      <td>4.262962e+12</td>\n",
       "      <td>5642549</td>\n",
       "      <td>F</td>\n",
       "      <td>2016-04-29T16:19:04Z</td>\n",
       "      <td>2016-04-29T00:00:00Z</td>\n",
       "      <td>62</td>\n",
       "      <td>MATA DA PRAIA</td>\n",
       "      <td>0</td>\n",
       "      <td>0</td>\n",
       "      <td>0</td>\n",
       "      <td>0</td>\n",
       "      <td>0</td>\n",
       "      <td>0</td>\n",
       "      <td>No</td>\n",
       "    </tr>\n",
       "    <tr>\n",
       "      <th>3</th>\n",
       "      <td>8.679512e+11</td>\n",
       "      <td>5642828</td>\n",
       "      <td>F</td>\n",
       "      <td>2016-04-29T17:29:31Z</td>\n",
       "      <td>2016-04-29T00:00:00Z</td>\n",
       "      <td>8</td>\n",
       "      <td>PONTAL DE CAMBURI</td>\n",
       "      <td>0</td>\n",
       "      <td>0</td>\n",
       "      <td>0</td>\n",
       "      <td>0</td>\n",
       "      <td>0</td>\n",
       "      <td>0</td>\n",
       "      <td>No</td>\n",
       "    </tr>\n",
       "    <tr>\n",
       "      <th>4</th>\n",
       "      <td>8.841186e+12</td>\n",
       "      <td>5642494</td>\n",
       "      <td>F</td>\n",
       "      <td>2016-04-29T16:07:23Z</td>\n",
       "      <td>2016-04-29T00:00:00Z</td>\n",
       "      <td>56</td>\n",
       "      <td>JARDIM DA PENHA</td>\n",
       "      <td>0</td>\n",
       "      <td>1</td>\n",
       "      <td>1</td>\n",
       "      <td>0</td>\n",
       "      <td>0</td>\n",
       "      <td>0</td>\n",
       "      <td>No</td>\n",
       "    </tr>\n",
       "    <tr>\n",
       "      <th>5</th>\n",
       "      <td>9.598513e+13</td>\n",
       "      <td>5626772</td>\n",
       "      <td>F</td>\n",
       "      <td>2016-04-27T08:36:51Z</td>\n",
       "      <td>2016-04-29T00:00:00Z</td>\n",
       "      <td>76</td>\n",
       "      <td>REPÚBLICA</td>\n",
       "      <td>0</td>\n",
       "      <td>1</td>\n",
       "      <td>0</td>\n",
       "      <td>0</td>\n",
       "      <td>0</td>\n",
       "      <td>0</td>\n",
       "      <td>No</td>\n",
       "    </tr>\n",
       "    <tr>\n",
       "      <th>6</th>\n",
       "      <td>7.336882e+14</td>\n",
       "      <td>5630279</td>\n",
       "      <td>F</td>\n",
       "      <td>2016-04-27T15:05:12Z</td>\n",
       "      <td>2016-04-29T00:00:00Z</td>\n",
       "      <td>23</td>\n",
       "      <td>GOIABEIRAS</td>\n",
       "      <td>0</td>\n",
       "      <td>0</td>\n",
       "      <td>0</td>\n",
       "      <td>0</td>\n",
       "      <td>0</td>\n",
       "      <td>0</td>\n",
       "      <td>Yes</td>\n",
       "    </tr>\n",
       "    <tr>\n",
       "      <th>7</th>\n",
       "      <td>3.449833e+12</td>\n",
       "      <td>5630575</td>\n",
       "      <td>F</td>\n",
       "      <td>2016-04-27T15:39:58Z</td>\n",
       "      <td>2016-04-29T00:00:00Z</td>\n",
       "      <td>39</td>\n",
       "      <td>GOIABEIRAS</td>\n",
       "      <td>0</td>\n",
       "      <td>0</td>\n",
       "      <td>0</td>\n",
       "      <td>0</td>\n",
       "      <td>0</td>\n",
       "      <td>0</td>\n",
       "      <td>Yes</td>\n",
       "    </tr>\n",
       "    <tr>\n",
       "      <th>8</th>\n",
       "      <td>5.639473e+13</td>\n",
       "      <td>5638447</td>\n",
       "      <td>F</td>\n",
       "      <td>2016-04-29T08:02:16Z</td>\n",
       "      <td>2016-04-29T00:00:00Z</td>\n",
       "      <td>21</td>\n",
       "      <td>ANDORINHAS</td>\n",
       "      <td>0</td>\n",
       "      <td>0</td>\n",
       "      <td>0</td>\n",
       "      <td>0</td>\n",
       "      <td>0</td>\n",
       "      <td>0</td>\n",
       "      <td>No</td>\n",
       "    </tr>\n",
       "    <tr>\n",
       "      <th>9</th>\n",
       "      <td>7.812456e+13</td>\n",
       "      <td>5629123</td>\n",
       "      <td>F</td>\n",
       "      <td>2016-04-27T12:48:25Z</td>\n",
       "      <td>2016-04-29T00:00:00Z</td>\n",
       "      <td>19</td>\n",
       "      <td>CONQUISTA</td>\n",
       "      <td>0</td>\n",
       "      <td>0</td>\n",
       "      <td>0</td>\n",
       "      <td>0</td>\n",
       "      <td>0</td>\n",
       "      <td>0</td>\n",
       "      <td>No</td>\n",
       "    </tr>\n",
       "  </tbody>\n",
       "</table>\n",
       "</div>"
      ],
      "text/plain": [
       "      PatientId  AppointmentID Gender          ScheduledDay  \\\n",
       "0  2.987250e+13        5642903      F  2016-04-29T18:38:08Z   \n",
       "1  5.589978e+14        5642503      M  2016-04-29T16:08:27Z   \n",
       "2  4.262962e+12        5642549      F  2016-04-29T16:19:04Z   \n",
       "3  8.679512e+11        5642828      F  2016-04-29T17:29:31Z   \n",
       "4  8.841186e+12        5642494      F  2016-04-29T16:07:23Z   \n",
       "5  9.598513e+13        5626772      F  2016-04-27T08:36:51Z   \n",
       "6  7.336882e+14        5630279      F  2016-04-27T15:05:12Z   \n",
       "7  3.449833e+12        5630575      F  2016-04-27T15:39:58Z   \n",
       "8  5.639473e+13        5638447      F  2016-04-29T08:02:16Z   \n",
       "9  7.812456e+13        5629123      F  2016-04-27T12:48:25Z   \n",
       "\n",
       "         AppointmentDay  Age      Neighbourhood  Scholarship  Hipertension  \\\n",
       "0  2016-04-29T00:00:00Z   62    JARDIM DA PENHA            0             1   \n",
       "1  2016-04-29T00:00:00Z   56    JARDIM DA PENHA            0             0   \n",
       "2  2016-04-29T00:00:00Z   62      MATA DA PRAIA            0             0   \n",
       "3  2016-04-29T00:00:00Z    8  PONTAL DE CAMBURI            0             0   \n",
       "4  2016-04-29T00:00:00Z   56    JARDIM DA PENHA            0             1   \n",
       "5  2016-04-29T00:00:00Z   76          REPÚBLICA            0             1   \n",
       "6  2016-04-29T00:00:00Z   23         GOIABEIRAS            0             0   \n",
       "7  2016-04-29T00:00:00Z   39         GOIABEIRAS            0             0   \n",
       "8  2016-04-29T00:00:00Z   21         ANDORINHAS            0             0   \n",
       "9  2016-04-29T00:00:00Z   19          CONQUISTA            0             0   \n",
       "\n",
       "   Diabetes  Alcoholism  Handcap  SMS_received No-show  \n",
       "0         0           0        0             0      No  \n",
       "1         0           0        0             0      No  \n",
       "2         0           0        0             0      No  \n",
       "3         0           0        0             0      No  \n",
       "4         1           0        0             0      No  \n",
       "5         0           0        0             0      No  \n",
       "6         0           0        0             0     Yes  \n",
       "7         0           0        0             0     Yes  \n",
       "8         0           0        0             0      No  \n",
       "9         0           0        0             0      No  "
      ]
     },
     "execution_count": 24,
     "metadata": {},
     "output_type": "execute_result"
    }
   ],
   "source": [
    "appointments_df = pd.read_csv('appointment_data.csv') # Load the data into a dataframe\n",
    "\n",
    "appointments_df.head(10) # Print the first ten rows of the data to make sre the data loaded"
   ]
  },
  {
   "cell_type": "markdown",
   "metadata": {},
   "source": [
    "### Data Cleaning "
   ]
  },
  {
   "cell_type": "markdown",
   "metadata": {},
   "source": [
    "There are a couple spelling errors in the column headers. These include \"Hipertension\" and \"Handcap.\" I have corrected these errors. I'll also change the British spelling of \"Neighbourhood\" to the American English \"Neighborhood\" so it doesn't distract me as I do my analysis. \n",
    "\n",
    "Update: I also found later that I had to change \"No-show\" to \"No_show\" as the \".unique\" operation below threw an error when the column name contained a hyphen.  "
   ]
  },
  {
   "cell_type": "code",
   "execution_count": 25,
   "metadata": {},
   "outputs": [
    {
     "name": "stdout",
     "output_type": "stream",
     "text": [
      "Index([u'PatientId', u'AppointmentID', u'Gender', u'ScheduledDay',\n",
      "       u'AppointmentDay', u'Age', u'Neighborhood', u'Scholarship',\n",
      "       u'Hypertension', u'Diabetes', u'Alcoholism', u'Handicap',\n",
      "       u'SMS_received', u'No_show'],\n",
      "      dtype='object')\n"
     ]
    }
   ],
   "source": [
    "appointments_df.rename(columns = {'Hipertension':'Hypertension', \n",
    "                                  'Handcap':'Handicap', \n",
    "                                  'Neighbourhood':'Neighborhood',\n",
    "                                  'No-show':'No_show'}, inplace = True)\n",
    "\n",
    "print(appointments_df.columns)"
   ]
  },
  {
   "cell_type": "markdown",
   "metadata": {},
   "source": [
    "I'm also not really liking the format that \"ScheduledDay\" and \"AppointmentDay\" are in, so I have changed these to the datetime64 format. I really don't know what format they are in now, but I don't like it; it is just not intuitive to me."
   ]
  },
  {
   "cell_type": "code",
   "execution_count": 26,
   "metadata": {},
   "outputs": [
    {
     "name": "stdout",
     "output_type": "stream",
     "text": [
      "0   2016-04-29 18:38:08\n",
      "1   2016-04-29 16:08:27\n",
      "2   2016-04-29 16:19:04\n",
      "3   2016-04-29 17:29:31\n",
      "4   2016-04-29 16:07:23\n",
      "Name: ScheduledDay, dtype: datetime64[ns]\n"
     ]
    }
   ],
   "source": [
    "appointments_df.ScheduledDay = appointments_df.ScheduledDay.apply(np.datetime64)\n",
    "\n",
    "print(appointments_df.ScheduledDay.head())"
   ]
  },
  {
   "cell_type": "code",
   "execution_count": 27,
   "metadata": {},
   "outputs": [
    {
     "name": "stdout",
     "output_type": "stream",
     "text": [
      "0   2016-04-29\n",
      "1   2016-04-29\n",
      "2   2016-04-29\n",
      "3   2016-04-29\n",
      "4   2016-04-29\n",
      "Name: AppointmentDay, dtype: datetime64[ns]\n"
     ]
    }
   ],
   "source": [
    "appointments_df.AppointmentDay = appointments_df.AppointmentDay.apply(np.datetime64)\n",
    "\n",
    "print(appointments_df.AppointmentDay.head())"
   ]
  },
  {
   "cell_type": "code",
   "execution_count": null,
   "metadata": {
    "collapsed": true
   },
   "outputs": [],
   "source": []
  },
  {
   "cell_type": "markdown",
   "metadata": {},
   "source": [
    "I'm also not really liking how \"PatientId\" is displayed in exponential form now. I want to see all the digits of the numbers in this column. "
   ]
  },
  {
   "cell_type": "code",
   "execution_count": 28,
   "metadata": {},
   "outputs": [
    {
     "name": "stdout",
     "output_type": "stream",
     "text": [
      "0     29872499824296\n",
      "1    558997776694438\n",
      "2      4262962299951\n",
      "3       867951213174\n",
      "4      8841186448183\n",
      "Name: PatientId, dtype: int64\n"
     ]
    }
   ],
   "source": [
    "appointments_df.PatientId = appointments_df.PatientId.astype(np.int64)\n",
    "\n",
    "print (appointments_df.PatientId.head())"
   ]
  },
  {
   "cell_type": "markdown",
   "metadata": {},
   "source": [
    "I just want to do one final check to see if there is anything bizarre in the data. "
   ]
  },
  {
   "cell_type": "code",
   "execution_count": 29,
   "metadata": {},
   "outputs": [
    {
     "name": "stdout",
     "output_type": "stream",
     "text": [
      "('PatientId:', array([29872499824296, 558997776694438, 4262962299951, ..., 72633149253362,\n",
      "       996997666245785, 15576631729893], dtype=int64))\n",
      "('AppointmentID:', array([5642903, 5642503, 5642549, ..., 5630692, 5630323, 5629448], dtype=int64))\n",
      "('Gender:', array(['F', 'M'], dtype=object))\n",
      "('ScheduledDay:', array(['2016-04-29T18:38:08.000000000', '2016-04-29T16:08:27.000000000',\n",
      "       '2016-04-29T16:19:04.000000000', ...,\n",
      "       '2016-04-27T16:03:52.000000000', '2016-04-27T15:09:23.000000000',\n",
      "       '2016-04-27T13:30:56.000000000'], dtype='datetime64[ns]'))\n",
      "('AppointmentDay:', array(['2016-04-29T00:00:00.000000000', '2016-05-03T00:00:00.000000000',\n",
      "       '2016-05-10T00:00:00.000000000', '2016-05-17T00:00:00.000000000',\n",
      "       '2016-05-24T00:00:00.000000000', '2016-05-31T00:00:00.000000000',\n",
      "       '2016-05-02T00:00:00.000000000', '2016-05-30T00:00:00.000000000',\n",
      "       '2016-05-16T00:00:00.000000000', '2016-05-04T00:00:00.000000000',\n",
      "       '2016-05-19T00:00:00.000000000', '2016-05-12T00:00:00.000000000',\n",
      "       '2016-05-06T00:00:00.000000000', '2016-05-20T00:00:00.000000000',\n",
      "       '2016-05-05T00:00:00.000000000', '2016-05-13T00:00:00.000000000',\n",
      "       '2016-05-09T00:00:00.000000000', '2016-05-25T00:00:00.000000000',\n",
      "       '2016-05-11T00:00:00.000000000', '2016-05-18T00:00:00.000000000',\n",
      "       '2016-05-14T00:00:00.000000000', '2016-06-02T00:00:00.000000000',\n",
      "       '2016-06-03T00:00:00.000000000', '2016-06-06T00:00:00.000000000',\n",
      "       '2016-06-07T00:00:00.000000000', '2016-06-01T00:00:00.000000000',\n",
      "       '2016-06-08T00:00:00.000000000'], dtype='datetime64[ns]'))\n",
      "('Age:', array([ 62,  56,   8,  76,  23,  39,  21,  19,  30,  29,  22,  28,  54,\n",
      "        15,  50,  40,  46,   4,  13,  65,  45,  51,  32,  12,  61,  38,\n",
      "        79,  18,  63,  64,  85,  59,  55,  71,  49,  78,  31,  58,  27,\n",
      "         6,   2,  11,   7,   0,   3,   1,  69,  68,  60,  67,  36,  10,\n",
      "        35,  20,  26,  34,  33,  16,  42,   5,  47,  17,  41,  44,  37,\n",
      "        24,  66,  77,  81,  70,  53,  75,  73,  52,  74,  43,  89,  57,\n",
      "        14,   9,  48,  83,  72,  25,  80,  87,  88,  84,  82,  90,  94,\n",
      "        86,  91,  98,  92,  96,  93,  95,  97, 102, 115, 100,  99,  -1], dtype=int64))\n",
      "('Neighborhood:', array(['JARDIM DA PENHA', 'MATA DA PRAIA', 'PONTAL DE CAMBURI',\n",
      "       'REP\\xc3\\x9aBLICA', 'GOIABEIRAS', 'ANDORINHAS', 'CONQUISTA',\n",
      "       'NOVA PALESTINA', 'DA PENHA', 'TABUAZEIRO', 'BENTO FERREIRA',\n",
      "       'S\\xc3\\x83O PEDRO', 'SANTA MARTHA',\n",
      "       'S\\xc3\\x83O CRIST\\xc3\\x93V\\xc3\\x83O', 'MARU\\xc3\\x8dPE',\n",
      "       'GRANDE VIT\\xc3\\x93RIA', 'S\\xc3\\x83O BENEDITO', 'ILHA DAS CAIEIRAS',\n",
      "       'SANTO ANDR\\xc3\\x89', 'SOLON BORGES', 'BONFIM', 'JARDIM CAMBURI',\n",
      "       'MARIA ORTIZ', 'JABOUR', 'ANT\\xc3\\x94NIO HON\\xc3\\x93RIO',\n",
      "       'RESIST\\xc3\\x8aNCIA', 'ILHA DE SANTA MARIA', 'JUCUTUQUARA',\n",
      "       'MONTE BELO', 'M\\xc3\\x81RIO CYPRESTE', 'SANTO ANT\\xc3\\x94NIO',\n",
      "       'BELA VISTA', 'PRAIA DO SU\\xc3\\x81', 'SANTA HELENA',\n",
      "       'ITARAR\\xc3\\x89', 'INHANGUET\\xc3\\x81', 'UNIVERSIT\\xc3\\x81RIO',\n",
      "       'S\\xc3\\x83O JOS\\xc3\\x89', 'REDEN\\xc3\\x87\\xc3\\x83O', 'SANTA CLARA',\n",
      "       'CENTRO', 'PARQUE MOSCOSO', 'DO MOSCOSO', 'SANTOS DUMONT',\n",
      "       'CARATO\\xc3\\x8dRA', 'ARIOVALDO FAVALESSA', 'ILHA DO FRADE',\n",
      "       'GURIGICA', 'JOANA D\\xc2\\xb4ARC', 'CONSOLA\\xc3\\x87\\xc3\\x83O',\n",
      "       'PRAIA DO CANTO', 'BOA VISTA', 'MORADA DE CAMBURI',\n",
      "       'SANTA LU\\xc3\\x8dZA', 'SANTA L\\xc3\\x9aCIA', 'BARRO VERMELHO',\n",
      "       'ESTRELINHA', 'FORTE S\\xc3\\x83O JO\\xc3\\x83O', 'FONTE GRANDE',\n",
      "       'ENSEADA DO SU\\xc3\\x81', 'SANTOS REIS', 'PIEDADE',\n",
      "       'JESUS DE NAZARETH', 'SANTA TEREZA', 'CRUZAMENTO',\n",
      "       'ILHA DO PR\\xc3\\x8dNCIPE', 'ROM\\xc3\\x83O', 'COMDUSA',\n",
      "       'SANTA CEC\\xc3\\x8dLIA', 'VILA RUBIM', 'DE LOURDES', 'DO QUADRO',\n",
      "       'DO CABRAL', 'HORTO', 'SEGURAN\\xc3\\x87A DO LAR', 'ILHA DO BOI',\n",
      "       'FRADINHOS', 'NAZARETH', 'AEROPORTO',\n",
      "       'ILHAS OCE\\xc3\\x82NICAS DE TRINDADE', 'PARQUE INDUSTRIAL'], dtype=object))\n",
      "('Scholarship:', array([0, 1], dtype=int64))\n",
      "('Hypertension:', array([1, 0], dtype=int64))\n",
      "('Diabetes:', array([0, 1], dtype=int64))\n",
      "('Alcoholism:', array([0, 1], dtype=int64))\n",
      "('Handicap:', array([0, 1, 2, 3, 4], dtype=int64))\n",
      "('SMS_received:', array([0, 1], dtype=int64))\n",
      "('No_show:', array(['No', 'Yes'], dtype=object))\n"
     ]
    },
    {
     "data": {
      "text/html": [
       "<div>\n",
       "<style>\n",
       "    .dataframe thead tr:only-child th {\n",
       "        text-align: right;\n",
       "    }\n",
       "\n",
       "    .dataframe thead th {\n",
       "        text-align: left;\n",
       "    }\n",
       "\n",
       "    .dataframe tbody tr th {\n",
       "        vertical-align: top;\n",
       "    }\n",
       "</style>\n",
       "<table border=\"1\" class=\"dataframe\">\n",
       "  <thead>\n",
       "    <tr style=\"text-align: right;\">\n",
       "      <th></th>\n",
       "      <th>PatientId</th>\n",
       "      <th>AppointmentID</th>\n",
       "      <th>Gender</th>\n",
       "      <th>ScheduledDay</th>\n",
       "      <th>AppointmentDay</th>\n",
       "      <th>Age</th>\n",
       "      <th>Neighborhood</th>\n",
       "      <th>Scholarship</th>\n",
       "      <th>Hypertension</th>\n",
       "      <th>Diabetes</th>\n",
       "      <th>Alcoholism</th>\n",
       "      <th>Handicap</th>\n",
       "      <th>SMS_received</th>\n",
       "      <th>No_show</th>\n",
       "    </tr>\n",
       "  </thead>\n",
       "  <tbody>\n",
       "    <tr>\n",
       "      <th>0</th>\n",
       "      <td>29872499824296</td>\n",
       "      <td>5642903</td>\n",
       "      <td>F</td>\n",
       "      <td>2016-04-29 18:38:08</td>\n",
       "      <td>2016-04-29</td>\n",
       "      <td>62</td>\n",
       "      <td>JARDIM DA PENHA</td>\n",
       "      <td>0</td>\n",
       "      <td>1</td>\n",
       "      <td>0</td>\n",
       "      <td>0</td>\n",
       "      <td>0</td>\n",
       "      <td>0</td>\n",
       "      <td>No</td>\n",
       "    </tr>\n",
       "    <tr>\n",
       "      <th>1</th>\n",
       "      <td>558997776694438</td>\n",
       "      <td>5642503</td>\n",
       "      <td>M</td>\n",
       "      <td>2016-04-29 16:08:27</td>\n",
       "      <td>2016-04-29</td>\n",
       "      <td>56</td>\n",
       "      <td>JARDIM DA PENHA</td>\n",
       "      <td>0</td>\n",
       "      <td>0</td>\n",
       "      <td>0</td>\n",
       "      <td>0</td>\n",
       "      <td>0</td>\n",
       "      <td>0</td>\n",
       "      <td>No</td>\n",
       "    </tr>\n",
       "    <tr>\n",
       "      <th>2</th>\n",
       "      <td>4262962299951</td>\n",
       "      <td>5642549</td>\n",
       "      <td>F</td>\n",
       "      <td>2016-04-29 16:19:04</td>\n",
       "      <td>2016-04-29</td>\n",
       "      <td>62</td>\n",
       "      <td>MATA DA PRAIA</td>\n",
       "      <td>0</td>\n",
       "      <td>0</td>\n",
       "      <td>0</td>\n",
       "      <td>0</td>\n",
       "      <td>0</td>\n",
       "      <td>0</td>\n",
       "      <td>No</td>\n",
       "    </tr>\n",
       "    <tr>\n",
       "      <th>3</th>\n",
       "      <td>867951213174</td>\n",
       "      <td>5642828</td>\n",
       "      <td>F</td>\n",
       "      <td>2016-04-29 17:29:31</td>\n",
       "      <td>2016-04-29</td>\n",
       "      <td>8</td>\n",
       "      <td>PONTAL DE CAMBURI</td>\n",
       "      <td>0</td>\n",
       "      <td>0</td>\n",
       "      <td>0</td>\n",
       "      <td>0</td>\n",
       "      <td>0</td>\n",
       "      <td>0</td>\n",
       "      <td>No</td>\n",
       "    </tr>\n",
       "    <tr>\n",
       "      <th>4</th>\n",
       "      <td>8841186448183</td>\n",
       "      <td>5642494</td>\n",
       "      <td>F</td>\n",
       "      <td>2016-04-29 16:07:23</td>\n",
       "      <td>2016-04-29</td>\n",
       "      <td>56</td>\n",
       "      <td>JARDIM DA PENHA</td>\n",
       "      <td>0</td>\n",
       "      <td>1</td>\n",
       "      <td>1</td>\n",
       "      <td>0</td>\n",
       "      <td>0</td>\n",
       "      <td>0</td>\n",
       "      <td>No</td>\n",
       "    </tr>\n",
       "    <tr>\n",
       "      <th>5</th>\n",
       "      <td>95985133231274</td>\n",
       "      <td>5626772</td>\n",
       "      <td>F</td>\n",
       "      <td>2016-04-27 08:36:51</td>\n",
       "      <td>2016-04-29</td>\n",
       "      <td>76</td>\n",
       "      <td>REPÚBLICA</td>\n",
       "      <td>0</td>\n",
       "      <td>1</td>\n",
       "      <td>0</td>\n",
       "      <td>0</td>\n",
       "      <td>0</td>\n",
       "      <td>0</td>\n",
       "      <td>No</td>\n",
       "    </tr>\n",
       "    <tr>\n",
       "      <th>6</th>\n",
       "      <td>733688164476661</td>\n",
       "      <td>5630279</td>\n",
       "      <td>F</td>\n",
       "      <td>2016-04-27 15:05:12</td>\n",
       "      <td>2016-04-29</td>\n",
       "      <td>23</td>\n",
       "      <td>GOIABEIRAS</td>\n",
       "      <td>0</td>\n",
       "      <td>0</td>\n",
       "      <td>0</td>\n",
       "      <td>0</td>\n",
       "      <td>0</td>\n",
       "      <td>0</td>\n",
       "      <td>Yes</td>\n",
       "    </tr>\n",
       "    <tr>\n",
       "      <th>7</th>\n",
       "      <td>3449833394123</td>\n",
       "      <td>5630575</td>\n",
       "      <td>F</td>\n",
       "      <td>2016-04-27 15:39:58</td>\n",
       "      <td>2016-04-29</td>\n",
       "      <td>39</td>\n",
       "      <td>GOIABEIRAS</td>\n",
       "      <td>0</td>\n",
       "      <td>0</td>\n",
       "      <td>0</td>\n",
       "      <td>0</td>\n",
       "      <td>0</td>\n",
       "      <td>0</td>\n",
       "      <td>Yes</td>\n",
       "    </tr>\n",
       "    <tr>\n",
       "      <th>8</th>\n",
       "      <td>56394729949972</td>\n",
       "      <td>5638447</td>\n",
       "      <td>F</td>\n",
       "      <td>2016-04-29 08:02:16</td>\n",
       "      <td>2016-04-29</td>\n",
       "      <td>21</td>\n",
       "      <td>ANDORINHAS</td>\n",
       "      <td>0</td>\n",
       "      <td>0</td>\n",
       "      <td>0</td>\n",
       "      <td>0</td>\n",
       "      <td>0</td>\n",
       "      <td>0</td>\n",
       "      <td>No</td>\n",
       "    </tr>\n",
       "    <tr>\n",
       "      <th>9</th>\n",
       "      <td>78124564369297</td>\n",
       "      <td>5629123</td>\n",
       "      <td>F</td>\n",
       "      <td>2016-04-27 12:48:25</td>\n",
       "      <td>2016-04-29</td>\n",
       "      <td>19</td>\n",
       "      <td>CONQUISTA</td>\n",
       "      <td>0</td>\n",
       "      <td>0</td>\n",
       "      <td>0</td>\n",
       "      <td>0</td>\n",
       "      <td>0</td>\n",
       "      <td>0</td>\n",
       "      <td>No</td>\n",
       "    </tr>\n",
       "  </tbody>\n",
       "</table>\n",
       "</div>"
      ],
      "text/plain": [
       "         PatientId  AppointmentID Gender        ScheduledDay AppointmentDay  \\\n",
       "0   29872499824296        5642903      F 2016-04-29 18:38:08     2016-04-29   \n",
       "1  558997776694438        5642503      M 2016-04-29 16:08:27     2016-04-29   \n",
       "2    4262962299951        5642549      F 2016-04-29 16:19:04     2016-04-29   \n",
       "3     867951213174        5642828      F 2016-04-29 17:29:31     2016-04-29   \n",
       "4    8841186448183        5642494      F 2016-04-29 16:07:23     2016-04-29   \n",
       "5   95985133231274        5626772      F 2016-04-27 08:36:51     2016-04-29   \n",
       "6  733688164476661        5630279      F 2016-04-27 15:05:12     2016-04-29   \n",
       "7    3449833394123        5630575      F 2016-04-27 15:39:58     2016-04-29   \n",
       "8   56394729949972        5638447      F 2016-04-29 08:02:16     2016-04-29   \n",
       "9   78124564369297        5629123      F 2016-04-27 12:48:25     2016-04-29   \n",
       "\n",
       "   Age       Neighborhood  Scholarship  Hypertension  Diabetes  Alcoholism  \\\n",
       "0   62    JARDIM DA PENHA            0             1         0           0   \n",
       "1   56    JARDIM DA PENHA            0             0         0           0   \n",
       "2   62      MATA DA PRAIA            0             0         0           0   \n",
       "3    8  PONTAL DE CAMBURI            0             0         0           0   \n",
       "4   56    JARDIM DA PENHA            0             1         1           0   \n",
       "5   76          REPÚBLICA            0             1         0           0   \n",
       "6   23         GOIABEIRAS            0             0         0           0   \n",
       "7   39         GOIABEIRAS            0             0         0           0   \n",
       "8   21         ANDORINHAS            0             0         0           0   \n",
       "9   19          CONQUISTA            0             0         0           0   \n",
       "\n",
       "   Handicap  SMS_received No_show  \n",
       "0         0             0      No  \n",
       "1         0             0      No  \n",
       "2         0             0      No  \n",
       "3         0             0      No  \n",
       "4         0             0      No  \n",
       "5         0             0      No  \n",
       "6         0             0     Yes  \n",
       "7         0             0     Yes  \n",
       "8         0             0      No  \n",
       "9         0             0      No  "
      ]
     },
     "execution_count": 29,
     "metadata": {},
     "output_type": "execute_result"
    }
   ],
   "source": [
    "print('PatientId:',(appointments_df.PatientId.astype(np.int64)).unique())\n",
    "print('AppointmentID:',appointments_df.AppointmentID.unique())\n",
    "print('Gender:',appointments_df.Gender.unique())\n",
    "print('ScheduledDay:',(appointments_df.ScheduledDay.apply(np.datetime64)).unique())\n",
    "print('AppointmentDay:',(appointments_df.AppointmentDay.apply(np.datetime64)).unique())\n",
    "print('Age:',appointments_df.Age.unique())\n",
    "print('Neighborhood:',appointments_df.Neighborhood.unique())\n",
    "print('Scholarship:',appointments_df.Scholarship.unique())\n",
    "print('Hypertension:',appointments_df.Hypertension.unique())\n",
    "print('Diabetes:',appointments_df.Diabetes.unique())\n",
    "print('Alcoholism:',appointments_df.Alcoholism.unique())\n",
    "print('Handicap:',appointments_df.Handicap.unique())\n",
    "print('SMS_received:',appointments_df.SMS_received.unique())\n",
    "print('No_show:',appointments_df.No_show.unique())\n",
    "\n",
    "appointments_df.head(10)"
   ]
  },
  {
   "cell_type": "markdown",
   "metadata": {},
   "source": [
    "For the most part, the data is looking good. I desperatly tried to show \"ScheduledDay\" and \"AppointmentDay\" in datetime64 format in the output of the code cell above, but I was not able to display it here. I thought this would have been a better and easier wayto look at the data for abberations. Nevertheless, they are in datetime64 in the output of the dataframe above. \n",
    "\n",
    "I was also not able to display a full list of all unique elements in the arrays; you will see six unique elements for some of the columns with an elipses between the third and fourth elements. \n",
    "\n",
    "One odd data point is -1 for an age, which should be scrubbed from the data given its impossibility. I also do not think that anyone below the age of 18 should be counted for this investigation because they are not legal adults and getting to their appointment on time is not within their control. Including them here says more about their parent or legal guardian than about the patients themselves. \n",
    "\n",
    "The names of the neighboorhoods are also not displaying accuratly, which appears to be a result of the tilde and accents in the Portuguese names of the neighborhoods. This displays fine in the dataframe above, so I am not worried about it. "
   ]
  },
  {
   "cell_type": "code",
   "execution_count": 30,
   "metadata": {},
   "outputs": [
    {
     "name": "stdout",
     "output_type": "stream",
     "text": [
      "('Age:', array([ 62,  56,  76,  23,  39,  21,  19,  30,  29,  22,  28,  54,  50,\n",
      "        40,  46,  65,  45,  51,  32,  61,  38,  79,  18,  63,  64,  85,\n",
      "        59,  55,  71,  49,  78,  31,  58,  27,  69,  68,  60,  67,  36,\n",
      "        35,  20,  26,  34,  33,  42,  47,  41,  44,  37,  24,  66,  77,\n",
      "        81,  70,  53,  75,  73,  52,  74,  43,  89,  57,  48,  83,  72,\n",
      "        25,  80,  87,  88,  84,  82,  90,  94,  86,  91,  98,  92,  96,\n",
      "        93,  95,  97, 102, 115, 100,  99], dtype=int64))\n",
      "PatientId         83147\n",
      "AppointmentID     83147\n",
      "Gender            83147\n",
      "ScheduledDay      83147\n",
      "AppointmentDay    83147\n",
      "Age               83147\n",
      "Neighborhood      83147\n",
      "Scholarship       83147\n",
      "Hypertension      83147\n",
      "Diabetes          83147\n",
      "Alcoholism        83147\n",
      "Handicap          83147\n",
      "SMS_received      83147\n",
      "No_show           83147\n",
      "dtype: int64\n"
     ]
    }
   ],
   "source": [
    "appointments_df = appointments_df[(appointments_df.Age >=18)]\n",
    "\n",
    "\n",
    "print('Age:',appointments_df.Age.unique())\n",
    "print appointments_df.count()"
   ]
  },
  {
   "cell_type": "markdown",
   "metadata": {},
   "source": [
    "I wanted to see how many appointments I was left with after only including patients who were over 18 years old. I also wanted to make sure my age filter was working properly.  "
   ]
  },
  {
   "cell_type": "markdown",
   "metadata": {},
   "source": [
    "<a id='eda'></a>\n",
    "## Exploratory Data Analysis\n",
    "\n",
    "\n",
    "### Are there differences in the prevalence of missed appointments between those who have multiple appointments and those who only have one appointment?\n",
    "\n",
    "I first started this with the assumption that patients tend to show a history of missing appointments. I wanted to compare [the number of patients with a second missed appointment] over [patients who missed 1 appointment] (for patients with multiple appointments) against the [number of missed appointments] over [the number of appointments where the patient only had one appointment].  \n",
    "\n",
    "I thought that patients who miss one appointment are more likely to miss a second appointment than patients who only have one appointment and miss it. However, I found that I was not able to develop the code to do this, so I looked at a different metric. \n",
    "\n",
    "Here we find every instance of \"PatientID\" that occurs more than 2 times in a column in the dataframe and save those in a new dataframe."
   ]
  },
  {
   "cell_type": "code",
   "execution_count": 31,
   "metadata": {},
   "outputs": [
    {
     "data": {
      "text/plain": [
       "PatientId         37095\n",
       "AppointmentID     37095\n",
       "Gender            37095\n",
       "ScheduledDay      37095\n",
       "AppointmentDay    37095\n",
       "Age               37095\n",
       "Neighborhood      37095\n",
       "Scholarship       37095\n",
       "Hypertension      37095\n",
       "Diabetes          37095\n",
       "Alcoholism        37095\n",
       "Handicap          37095\n",
       "SMS_received      37095\n",
       "No_show           37095\n",
       "dtype: int64"
      ]
     },
     "execution_count": 31,
     "metadata": {},
     "output_type": "execute_result"
    }
   ],
   "source": [
    "more_than_one = appointments_df[appointments_df.duplicated(subset='PatientId')]\n",
    "\n",
    "more_than_one.count()"
   ]
  },
  {
   "cell_type": "markdown",
   "metadata": {},
   "source": [
    "From this, it looks like of the 83,147 appointments made for those who were over 18 years old, 37,095 of them were for patients who scheduled 2 or more appointments.   "
   ]
  },
  {
   "cell_type": "code",
   "execution_count": 32,
   "metadata": {},
   "outputs": [
    {
     "data": {
      "text/plain": [
       "PatientId         7486\n",
       "AppointmentID     7486\n",
       "Gender            7486\n",
       "ScheduledDay      7486\n",
       "AppointmentDay    7486\n",
       "Age               7486\n",
       "Neighborhood      7486\n",
       "Scholarship       7486\n",
       "Hypertension      7486\n",
       "Diabetes          7486\n",
       "Alcoholism        7486\n",
       "Handicap          7486\n",
       "SMS_received      7486\n",
       "No_show           7486\n",
       "dtype: int64"
      ]
     },
     "execution_count": 32,
     "metadata": {},
     "output_type": "execute_result"
    }
   ],
   "source": [
    "number_missed = more_than_one.loc[more_than_one['No_show']==\"Yes\"]\n",
    "\n",
    "number_missed.count()"
   ]
  },
  {
   "cell_type": "markdown",
   "metadata": {},
   "source": [
    "Of those appointments for people who had more than one appointment, 7,486 appointments were missed."
   ]
  },
  {
   "cell_type": "code",
   "execution_count": 33,
   "metadata": {},
   "outputs": [
    {
     "data": {
      "text/plain": [
       "PatientId         46052\n",
       "AppointmentID     46052\n",
       "Gender            46052\n",
       "ScheduledDay      46052\n",
       "AppointmentDay    46052\n",
       "Age               46052\n",
       "Neighborhood      46052\n",
       "Scholarship       46052\n",
       "Hypertension      46052\n",
       "Diabetes          46052\n",
       "Alcoholism        46052\n",
       "Handicap          46052\n",
       "SMS_received      46052\n",
       "No_show           46052\n",
       "dtype: int64"
      ]
     },
     "execution_count": 33,
     "metadata": {},
     "output_type": "execute_result"
    }
   ],
   "source": [
    "only_one = appointments_df.drop_duplicates(subset='PatientId')\n",
    "\n",
    "only_one.count()"
   ]
  },
  {
   "cell_type": "markdown",
   "metadata": {},
   "source": [
    "This is the number of appointments for people who only had one appointment: 46,052. Another way of saying this is that this is also the number of people who only had one appointment. "
   ]
  },
  {
   "cell_type": "code",
   "execution_count": 34,
   "metadata": {},
   "outputs": [
    {
     "data": {
      "text/plain": [
       "PatientId         8836\n",
       "AppointmentID     8836\n",
       "Gender            8836\n",
       "ScheduledDay      8836\n",
       "AppointmentDay    8836\n",
       "Age               8836\n",
       "Neighborhood      8836\n",
       "Scholarship       8836\n",
       "Hypertension      8836\n",
       "Diabetes          8836\n",
       "Alcoholism        8836\n",
       "Handicap          8836\n",
       "SMS_received      8836\n",
       "No_show           8836\n",
       "dtype: int64"
      ]
     },
     "execution_count": 34,
     "metadata": {},
     "output_type": "execute_result"
    }
   ],
   "source": [
    "number_missed_only_one = only_one.loc[only_one['No_show']==\"Yes\"]\n",
    "\n",
    "number_missed_only_one.count()"
   ]
  },
  {
   "cell_type": "markdown",
   "metadata": {},
   "source": [
    "Of those appointments for people who only had one appointment, 8,486 appointments were missed."
   ]
  },
  {
   "cell_type": "code",
   "execution_count": 35,
   "metadata": {},
   "outputs": [
    {
     "data": {
      "image/png": "[encoded data removed]",
      "text/plain": [
       "<matplotlib.figure.Figure at 0x130645c0>"
      ]
     },
     "metadata": {},
     "output_type": "display_data"
    }
   ],
   "source": [
    "objects = ('One+', 'One+ Missed', 'One', 'One Missed')\n",
    "y_pos = np.arange(len(objects))\n",
    "performance = [37095,7486,46052,8836]\n",
    " \n",
    "plt.bar(y_pos, performance, align='center', alpha=0.6, width=1, color=['red', 'blue'], edgecolor='black')\n",
    "plt.xticks(y_pos, objects)\n",
    "plt.ylabel('Number of Appointments')\n",
    "plt.title('Number of Appointments Versus Number of Appointments Missed')\n",
    " \n",
    "plt.show()"
   ]
  },
  {
   "cell_type": "markdown",
   "metadata": {},
   "source": [
    "Here we have the number of appointments for people who had more than one appointment next to the number of those appointments that were missed. Then we have the number of appointments for people who only had one appointment next to the number of those appointments that were missed. \n",
    "\n",
    "I was interested in seeing if appointments were more often missed when people had multiple appointments than appointments when people only had one appointment. This visualization does not seem to give us any insight into that question. \n",
    "\n",
    "Let's see if we can probe the differences between those who only have one appointment and those who have multiple appointments a bit more. "
   ]
  },
  {
   "cell_type": "code",
   "execution_count": 36,
   "metadata": {},
   "outputs": [
    {
     "name": "stdout",
     "output_type": "stream",
     "text": [
      "0.204429629284\n",
      "18301\n",
      "0.191870059932\n",
      "46052\n"
     ]
    }
   ],
   "source": [
    "appointments_df['No_show_new'] = np.where(appointments_df['No_show'] == 'No', False, True) # turn \"No_show\" into Boolean\n",
    "\n",
    "more_than_one = appointments_df[appointments_df.duplicated(subset='PatientId')] # Add this new Boolean data to the more_than_one dataframe we created above\n",
    "only_one = appointments_df.drop_duplicates(subset='PatientId')\n",
    "\n",
    "ave_no_show_multiple = more_than_one.groupby('PatientId')['No_show_new'].mean()\n",
    "ave_no_show_single = only_one.groupby('PatientId')['No_show_new'].mean()\n",
    "\n",
    "print ave_no_show_multiple.mean()\n",
    "print ave_no_show_multiple.count()\n",
    "print ave_no_show_single.mean()\n",
    "print ave_no_show_single.count()"
   ]
  },
  {
   "cell_type": "markdown",
   "metadata": {},
   "source": [
    "Here, we turned the \"No_show\" column into Boolean data so we could probe it further and see if there were any differences between those patients with multiple appointments and those with only one appointment. Unfortunately, there does not appear to be any interesting distinction here. What is kind of interesting is that about 20% of patients miss their appointments in both groups.  "
   ]
  },
  {
   "cell_type": "markdown",
   "metadata": {},
   "source": [
    "### Missed Appointments by Neighborhood"
   ]
  },
  {
   "cell_type": "code",
   "execution_count": 37,
   "metadata": {},
   "outputs": [
    {
     "name": "stdout",
     "output_type": "stream",
     "text": [
      "                   Neighborhood No_show_new      \n",
      "                                       mean count\n",
      "0                     AEROPORTO    0.125000     8\n",
      "1                    ANDORINHAS    0.225825  1696\n",
      "2               ANTÔNIO HONÓRIO    0.143564   202\n",
      "3           ARIOVALDO FAVALESSA    0.227513   189\n",
      "4                BARRO VERMELHO    0.216710   383\n",
      "5                    BELA VISTA    0.183480  1368\n",
      "6                BENTO FERREIRA    0.219973   741\n",
      "7                     BOA VISTA    0.181818   187\n",
      "8                        BONFIM    0.201709  2107\n",
      "9                     CARATOÍRA    0.238854  1884\n",
      "10                       CENTRO    0.205465  2818\n",
      "11                      COMDUSA    0.196653   239\n",
      "12                    CONQUISTA    0.178451   594\n",
      "13                   CONSOLAÇÃO    0.165362  1022\n",
      "14                   CRUZAMENTO    0.221782  1010\n",
      "15                     DA PENHA    0.196102  1693\n",
      "16                   DE LOURDES    0.129412   255\n",
      "17                    DO CABRAL    0.153846   403\n",
      "18                   DO MOSCOSO    0.200000   285\n",
      "19                    DO QUADRO    0.139461   631\n",
      "20               ENSEADA DO SUÁ    0.235955   178\n",
      "21                   ESTRELINHA    0.202353   425\n",
      "22                 FONTE GRANDE    0.228628   503\n",
      "23               FORTE SÃO JOÃO    0.192308  1378\n",
      "24                    FRADINHOS    0.170507   217\n",
      "25                   GOIABEIRAS    0.166333   499\n",
      "26               GRANDE VITÓRIA    0.204353   827\n",
      "27                     GURIGICA    0.227672  1366\n",
      "28                        HORTO    0.203008   133\n",
      "29            ILHA DAS CAIEIRAS    0.224571   757\n",
      "30          ILHA DE SANTA MARIA    0.161796  1403\n",
      "31                  ILHA DO BOI    0.085714    35\n",
      "32                ILHA DO FRADE    0.200000    10\n",
      "33             ILHA DO PRÍNCIPE    0.220506  1619\n",
      "34  ILHAS OCEÂNICAS DE TRINDADE    1.000000     2\n",
      "35                   INHANGUETÁ    0.168224   749\n",
      "36                      ITARARÉ    0.262859  2644\n",
      "37                       JABOUR    0.169106  1845\n",
      "38               JARDIM CAMBURI    0.180834  6376\n",
      "39              JARDIM DA PENHA    0.158233  3419\n",
      "40            JESUS DE NAZARETH    0.240289  1802\n",
      "41                  JOANA D´ARC    0.170543  1032\n",
      "42                  JUCUTUQUARA    0.169369   555\n",
      "43                  MARIA ORTIZ    0.208660  4203\n",
      "44                      MARUÍPE    0.213419  1565\n",
      "45                MATA DA PRAIA    0.168421   570\n",
      "46                   MONTE BELO    0.171329   572\n",
      "47            MORADA DE CAMBURI    0.135135    74\n",
      "48               MÁRIO CYPRESTE    0.158784   296\n",
      "49                     NAZARETH    0.176471   102\n",
      "50               NOVA PALESTINA    0.165933  1591\n",
      "51               PARQUE MOSCOSO    0.208633   695\n",
      "52                      PIEDADE    0.187726   277\n",
      "53            PONTAL DE CAMBURI    0.156863    51\n",
      "54               PRAIA DO CANTO    0.175858   961\n",
      "55                 PRAIA DO SUÁ    0.228718   975\n",
      "56                     REDENÇÃO    0.175652  1150\n",
      "57                    REPÚBLICA    0.152542   649\n",
      "58                  RESISTÊNCIA    0.204975  3176\n",
      "59                        ROMÃO    0.226650  1606\n",
      "60                SANTA CECÍLIA    0.257534   365\n",
      "61                  SANTA CLARA    0.235294   391\n",
      "62                 SANTA HELENA    0.217742   124\n",
      "63                  SANTA LUÍZA    0.180758   343\n",
      "64                  SANTA LÚCIA    0.197368   380\n",
      "65                 SANTA MARTHA    0.151657  2354\n",
      "66                 SANTA TEREZA    0.184211   950\n",
      "67                  SANTO ANDRÉ    0.211035  1758\n",
      "68                SANTO ANTÔNIO    0.171580  2069\n",
      "69                SANTOS DUMONT    0.294726   967\n",
      "70                  SANTOS REIS    0.183784   370\n",
      "71             SEGURANÇA DO LAR    0.102041    98\n",
      "72                 SOLON BORGES    0.137056   394\n",
      "73                 SÃO BENEDITO    0.192053   906\n",
      "74                SÃO CRISTÓVÃO    0.208449  1444\n",
      "75                     SÃO JOSÉ    0.206922  1358\n",
      "76                    SÃO PEDRO    0.211055  1791\n",
      "77                   TABUAZEIRO    0.171313  2224\n",
      "78                UNIVERSITÁRIO    0.213740   131\n",
      "79                   VILA RUBIM    0.153846   728\n",
      "Neighborhood           AEROPORTO\n",
      "No_show_new   mean     0.0857143\n",
      "              count            2\n",
      "dtype: object\n",
      "Neighborhood           VILA RUBIM\n",
      "No_show_new   mean              1\n",
      "              count          6376\n",
      "dtype: object\n",
      "No_show_new  mean        0.199901\n",
      "             count    1039.337500\n",
      "dtype: float64\n",
      "No_show_new  mean        0.097419\n",
      "             count    1059.855053\n",
      "dtype: float64\n"
     ]
    }
   ],
   "source": [
    "pd.options.display.max_rows = 100\n",
    "neighborhoods = appointments_df.groupby('Neighborhood', as_index = False).agg({'No_show_new':['mean','count']}) \n",
    "\n",
    "print neighborhoods.head(100)\n",
    "print neighborhoods.min()\n",
    "print neighborhoods.max()\n",
    "print neighborhoods.mean()\n",
    "print neighborhoods.std()"
   ]
  },
  {
   "cell_type": "markdown",
   "metadata": {},
   "source": [
    "While both appointments from \"ILHAS OCEÂNICAS DE TRINDADE\" were missed, resulting in a 100% no-show rate, we are going to ignore this because there were only two appointments made by people from this neighborhood. The second highest no-show rate was from the neighnorhood of \"SANTOS DUMONT,\" which had nearly a 30% no-show rate (n=967). We compare this below to the lowest no-show rate from \"ILHA DO BOI,\" which was about 8.6% (n=35).   "
   ]
  },
  {
   "cell_type": "code",
   "execution_count": 38,
   "metadata": {},
   "outputs": [
    {
     "data": {
      "image/png": "[encoded data removed]",
      "text/plain": [
       "<matplotlib.figure.Figure at 0x12348f98>"
      ]
     },
     "metadata": {},
     "output_type": "display_data"
    }
   ],
   "source": [
    "names = 'No Show', 'Show'\n",
    "sizes = [.294726, .705274]\n",
    "fig1, santos = plt.subplots()\n",
    "santos.pie(sizes, labels=names, autopct='%1.0f%%')\n",
    "santos.axis('equal')  \n",
    "santos.set_title('Appointments Missed When Patient Is from the Santos Dumont Neighborhood')\n",
    "\n",
    "plt.show()"
   ]
  },
  {
   "cell_type": "code",
   "execution_count": 39,
   "metadata": {},
   "outputs": [
    {
     "data": {
      "image/png": "[encoded data removed]",
      "text/plain": [
       "<matplotlib.figure.Figure at 0x13064da0>"
      ]
     },
     "metadata": {},
     "output_type": "display_data"
    }
   ],
   "source": [
    "names = 'No Show', 'Show'\n",
    "sizes = [.085714 , .914286]\n",
    "fig1, ilha = plt.subplots()\n",
    "ilha.pie(sizes, labels=names, autopct='%1.0f%%')\n",
    "ilha.axis('equal')  \n",
    "ilha.set_title('Appointments Missed When Patient Is from the Ilha Do Boi Neighborhood')\n",
    "\n",
    "plt.show()"
   ]
  },
  {
   "cell_type": "markdown",
   "metadata": {},
   "source": [
    "Missed appointments seem to be significantly different between these two neighborhoods. Let's do a quick test to see if these differences are statistically significant. We want to see what the mean and standard deviation of \"No_show_new\" is for the entire dataframe and see if .085714 are .294726 are within two standard deviations of the mean. As we can see, the mean of the means for each neighborhood for no shows is about 20%, and the standrd deviation is just about 1% meaning that these two attendance values fall outside of two standard deviations from the mean (i.e., 18%-22% no-show rate). It would be interesting to explore the reasons behind these figures in further detail.   "
   ]
  },
  {
   "cell_type": "markdown",
   "metadata": {},
   "source": [
    "### Do Text Message Help People Make Their Appointments? "
   ]
  },
  {
   "cell_type": "code",
   "execution_count": 40,
   "metadata": {},
   "outputs": [
    {
     "name": "stdout",
     "output_type": "stream",
     "text": [
      "  SMS_received No_show_new       \n",
      "                      mean  count\n",
      "0            0    0.160956  55686\n",
      "1            1    0.267980  27461\n"
     ]
    }
   ],
   "source": [
    "text_messages = appointments_df.groupby('SMS_received', as_index = False).agg({'No_show_new':['mean','count']})\n",
    "\n",
    "print text_messages\n"
   ]
  },
  {
   "cell_type": "code",
   "execution_count": 41,
   "metadata": {},
   "outputs": [
    {
     "data": {
      "image/png": "[encoded data removed]",
      "text/plain": [
       "<matplotlib.figure.Figure at 0x1237cac8>"
      ]
     },
     "metadata": {},
     "output_type": "display_data"
    },
    {
     "data": {
      "image/png": "[encoded data removed]",
      "text/plain": [
       "<matplotlib.figure.Figure at 0x13163518>"
      ]
     },
     "metadata": {},
     "output_type": "display_data"
    }
   ],
   "source": [
    "names = 'Missed', 'Did Not Miss'\n",
    "sizes = [.160956 , .839044]\n",
    "fig1, no_sms = plt.subplots()\n",
    "no_sms.pie(sizes, labels=names, autopct='%1.0f%%', colors=['red', 'green'])\n",
    "no_sms.axis('equal')  \n",
    "no_sms.set_title('Percentage of Appointments Missed When Patient Did Not Receive an SMS Reminder')\n",
    "\n",
    "plt.show()\n",
    "\n",
    "names = 'Missed', 'Did Not Miss'\n",
    "sizes = [.267980, .73202]\n",
    "fig1, no_sms = plt.subplots()\n",
    "no_sms.pie(sizes, labels=names, autopct='%1.0f%%', colors=['red', 'green'])\n",
    "no_sms.axis('equal')  \n",
    "no_sms.set_title('Percentage of Appointments Missed When Patient Received an SMS Reminder')\n",
    "\n",
    "plt.show()"
   ]
  },
  {
   "cell_type": "markdown",
   "metadata": {},
   "source": [
    "At first, I found this finding surprising. It seems that those who did not receive text messages missed 16% of all appointments; those who did receive text messages missed a higher percentage of appointments: 26%. "
   ]
  },
  {
   "cell_type": "markdown",
   "metadata": {},
   "source": [
    "<a id='conclusions'></a>\n",
    "## Conclusions\n",
    "\n",
    "For the most part, I was able to probe my initial research questions. However, I was really interested in grouping all people with multiple appointments to see if people who missed one appointment missed their second appointment more frequently than people with only one appointment missed their appointment. I wanted to do this to see if people tended to exhibit a history of missing appointments, but after much thinking I was not able to think of how to code this. Nevertheless, this work is a foundation for further analysis pertaining to that research question.\n",
    "\n",
    "My other two research questions were much more interesting: I found that the number of missed appointments from one neighborhood was nearly 30% and the missed appointments from another neighborhood hovered around 9%. I would like to explore the underlying causes for this further. To make a robust analysis on this point, I would like a longer time serious of data (rather than just 3 months in the summer of 2016) to help balance out any time-bound factors that happened during those three months (e.g., bad weather, sporting events, national holidays.)\n",
    "\n",
    "The insights I gained into my third research question are the most puzzling of all the analysis I did. The result make me look for errors in my code, but I did not seem to find any. Those who received SMS messages seemed to miss appointments more frequently than those who did not. This result could be the result of a number of factors, including that those who have or think they might miss appointments are those who tend to set up SMS messaging. It could also be that those who do not receive SMS messages are contacted another way that the data does not illuminate; for example, the medical facility may contact them via phone to remind them of their appointment and this may me more effective than an SMS message. \n",
    "\n",
    "I am very happy with the analysis I did and am excited to keep improving my data analysis skills."
   ]
  },
  {
   "cell_type": "code",
   "execution_count": null,
   "metadata": {
    "collapsed": true
   },
   "outputs": [],
   "source": []
  }
 ],
 "metadata": {
  "kernelspec": {
   "display_name": "Python 2",
   "language": "python",
   "name": "python2"
  },
  "language_info": {
   "codemirror_mode": {
    "name": "ipython",
    "version": 2
   },
   "file_extension": ".py",
   "mimetype": "text/x-python",
   "name": "python",
   "nbconvert_exporter": "python",
   "pygments_lexer": "ipython2",
   "version": "2.7.13"
  }
 },
 "nbformat": 4,
 "nbformat_minor": 2
}
